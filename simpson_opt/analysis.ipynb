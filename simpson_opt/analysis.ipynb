{
 "cells": [
  {
   "cell_type": "markdown",
   "metadata": {},
   "source": [
    "## Оптимізація розрахунків\n",
    "#### Завдання - зменшити час виконання програми чисельного інтегрування.\n",
    "#### Для виконання завдання було вирішено переписати програму на іншій мові програмування, яка компілюється і дає змогу розпаралелювати обчислення.\n",
    "#### Було вибрано мову програмування Go, адже є високорівневою та має високу швидкість виконання програм і простоту для запуску паралельних обчислень\n",
    "#### Для перевірки швидкості виконання програми використовували модуль timeit для Python (результат в сек) та testing для Go (результат в нс)"
   ]
  },
  {
   "cell_type": "code",
   "execution_count": 237,
   "metadata": {},
   "outputs": [],
   "source": [
    "import pandas as pd\n",
    "import seaborn as sns\n",
    "import scipy.stats as stats"
   ]
  },
  {
   "cell_type": "code",
   "execution_count": 238,
   "metadata": {},
   "outputs": [],
   "source": [
    "# Функція для добування номера рядка з потрібною підстрічною в текстовому файлі\n",
    "def OccurSubstring(List, searched):\n",
    "    indices = [i for i, x in enumerate(List) if searched in x]\n",
    "    return indices"
   ]
  },
  {
   "cell_type": "code",
   "execution_count": 239,
   "metadata": {},
   "outputs": [],
   "source": [
    "# Парсимо результати go бенчмарку\n",
    "with open(\"./go/go_res_bench\", \"r\") as f:\n",
    "    lines = f.readlines()\n",
    "\n",
    "go_str = \"BenchmarkSimpson-8\" \n",
    "indicesGo = OccurSubstring(lines, go_str)\n",
    "gor_str = \"BenchmarkSimpsonGor-8\" \n",
    "indicesGor = OccurSubstring(lines, gor_str)\n",
    "\n",
    "go = []  # зберігаємо час виконання файлу го \n",
    "gor =[]  # час виконання фалу го з потоками\n",
    "for line in range(len(lines)):\n",
    "    if line in indicesGo:\n",
    "        l = lines[line].strip().split()\n",
    "        go.append(l[2])\n",
    "    elif line in indicesGor:\n",
    "        l = lines[line].strip().split()\n",
    "        gor.append(l[2])\n"
   ]
  },
  {
   "cell_type": "code",
   "execution_count": 240,
   "metadata": {},
   "outputs": [],
   "source": [
    "# Результати python бенчмарку\n",
    "df = pd.read_csv(\"./python/py_res_bench.csv\", nrows=len(go))\n",
    "df[\"go\"] = go\n",
    "df[\"go_goroutine\"] = gor\n",
    "df[\"go_goroutine\"] = df[\"go_goroutine\"].astype(float)\n",
    "df[\"go\"] = df[\"go\"].astype(float)\n",
    "\n",
    "# переводимо з наносекунд в секунди\n",
    "df['go'] = df.go.values / 1000000000\n",
    "df['go_goroutine'] = df.go_goroutine.values / 1000000000"
   ]
  },
  {
   "cell_type": "code",
   "execution_count": 241,
   "metadata": {},
   "outputs": [
    {
     "data": {
      "text/html": [
       "<div>\n",
       "<style scoped>\n",
       "    .dataframe tbody tr th:only-of-type {\n",
       "        vertical-align: middle;\n",
       "    }\n",
       "\n",
       "    .dataframe tbody tr th {\n",
       "        vertical-align: top;\n",
       "    }\n",
       "\n",
       "    .dataframe thead th {\n",
       "        text-align: right;\n",
       "    }\n",
       "</style>\n",
       "<table border=\"1\" class=\"dataframe\">\n",
       "  <thead>\n",
       "    <tr style=\"text-align: right;\">\n",
       "      <th></th>\n",
       "      <th>python</th>\n",
       "      <th>go</th>\n",
       "      <th>go_goroutine</th>\n",
       "    </tr>\n",
       "  </thead>\n",
       "  <tbody>\n",
       "    <tr>\n",
       "      <th>count</th>\n",
       "      <td>216.000000</td>\n",
       "      <td>216.000000</td>\n",
       "      <td>216.000000</td>\n",
       "    </tr>\n",
       "    <tr>\n",
       "      <th>mean</th>\n",
       "      <td>0.012066</td>\n",
       "      <td>0.000181</td>\n",
       "      <td>0.000174</td>\n",
       "    </tr>\n",
       "    <tr>\n",
       "      <th>std</th>\n",
       "      <td>0.000708</td>\n",
       "      <td>0.000015</td>\n",
       "      <td>0.000014</td>\n",
       "    </tr>\n",
       "    <tr>\n",
       "      <th>min</th>\n",
       "      <td>0.011193</td>\n",
       "      <td>0.000145</td>\n",
       "      <td>0.000134</td>\n",
       "    </tr>\n",
       "    <tr>\n",
       "      <th>25%</th>\n",
       "      <td>0.011479</td>\n",
       "      <td>0.000171</td>\n",
       "      <td>0.000165</td>\n",
       "    </tr>\n",
       "    <tr>\n",
       "      <th>50%</th>\n",
       "      <td>0.011744</td>\n",
       "      <td>0.000181</td>\n",
       "      <td>0.000173</td>\n",
       "    </tr>\n",
       "    <tr>\n",
       "      <th>75%</th>\n",
       "      <td>0.012598</td>\n",
       "      <td>0.000190</td>\n",
       "      <td>0.000181</td>\n",
       "    </tr>\n",
       "    <tr>\n",
       "      <th>max</th>\n",
       "      <td>0.015236</td>\n",
       "      <td>0.000243</td>\n",
       "      <td>0.000226</td>\n",
       "    </tr>\n",
       "  </tbody>\n",
       "</table>\n",
       "</div>"
      ],
      "text/plain": [
       "           python          go  go_goroutine\n",
       "count  216.000000  216.000000    216.000000\n",
       "mean     0.012066    0.000181      0.000174\n",
       "std      0.000708    0.000015      0.000014\n",
       "min      0.011193    0.000145      0.000134\n",
       "25%      0.011479    0.000171      0.000165\n",
       "50%      0.011744    0.000181      0.000173\n",
       "75%      0.012598    0.000190      0.000181\n",
       "max      0.015236    0.000243      0.000226"
      ]
     },
     "execution_count": 241,
     "metadata": {},
     "output_type": "execute_result"
    }
   ],
   "source": [
    "# Виводимо описову статистику\n",
    "df.describe()"
   ]
  },
  {
   "cell_type": "code",
   "execution_count": 242,
   "metadata": {},
   "outputs": [
    {
     "data": {
      "text/plain": [
       "Text(0.5, 1.0, 'Runtime comparison')"
      ]
     },
     "execution_count": 242,
     "metadata": {},
     "output_type": "execute_result"
    },
    {
     "data": {
      "image/png": "[encoded data removed]",
      "text/plain": [
       "<Figure size 432x288 with 1 Axes>"
      ]
     },
     "metadata": {
      "needs_background": "light"
     },
     "output_type": "display_data"
    }
   ],
   "source": [
    "# Перетворюємо дані для зручногого формату тестів\n",
    "df_melt = pd.melt(df.reset_index(), id_vars=['index'], value_vars=['python', 'go', 'go_goroutine'])\n",
    "df_melt.columns = ['index', 'type', 'runtime']\n",
    "\n",
    "ax = sns.boxplot(x='type', y='runtime', data=df_melt, color='#99c2a2')\n",
    "ax.set_title(\"Runtime comparison\")"
   ]
  },
  {
   "cell_type": "markdown",
   "metadata": {},
   "source": [
    "### З графіку видно, що швидкість вмконання програми мовою Python набагато нижча, ніж Go"
   ]
  },
  {
   "cell_type": "code",
   "execution_count": 243,
   "metadata": {},
   "outputs": [
    {
     "name": "stdout",
     "output_type": "stream",
     "text": [
      "Go в середньому швидшие виконує програму за Пайтон в 66.50230475692837 разів\n",
      "Go з використанням паралельних обчислень в середньому швидшие виконує програму за Пайтон в 69.40474793767497 разів\n"
     ]
    }
   ],
   "source": [
    "print(\"Go в середньому швидшие виконує програму за Пайтон в\", df.python.mean()/df.go.mean(), \"разів\")\n",
    "print(\"Go з використанням паралельних обчислень в середньому швидшие виконує програму за Пайтон в\",df.python.mean()/df.go_goroutine.mean(),\"разів\")"
   ]
  },
  {
   "cell_type": "markdown",
   "metadata": {},
   "source": [
    "### Доведемо статистичну різницю, використавши тест ANOVA"
   ]
  },
  {
   "cell_type": "code",
   "execution_count": 244,
   "metadata": {},
   "outputs": [
    {
     "name": "stdout",
     "output_type": "stream",
     "text": [
      "Statistics=60806.411, p=0.0000000000\n",
      "Different distributions (reject H0)\n"
     ]
    }
   ],
   "source": [
    "# Anova\n",
    "stat, p = stats.f_oneway(df.python, df.go, df.go_goroutine)\n",
    "print('Statistics=%.3f, p=%.10f' % (stat, p))\n",
    "# interpret\n",
    "alpha = 0.05\n",
    "if p > alpha:\n",
    "\tprint('Same distributions (fail to reject H0)')\n",
    "else:\n",
    "\tprint('Different distributions (reject H0)')"
   ]
  },
  {
   "cell_type": "markdown",
   "metadata": {},
   "source": [
    "###  Порівняємо код на Go "
   ]
  },
  {
   "cell_type": "code",
   "execution_count": 245,
   "metadata": {},
   "outputs": [
    {
     "data": {
      "text/plain": [
       "Text(0.5, 1.0, 'Go vs Go with goroutines')"
      ]
     },
     "execution_count": 245,
     "metadata": {},
     "output_type": "execute_result"
    },
    {
     "data": {
      "image/png": "[encoded data removed]",
      "text/plain": [
       "<Figure size 432x288 with 1 Axes>"
      ]
     },
     "metadata": {
      "needs_background": "light"
     },
     "output_type": "display_data"
    }
   ],
   "source": [
    "ax = sns.boxplot(data=df[['go','go_goroutine']], palette=\"Set2\")\n",
    "ax.set_title(\"Go vs Go with goroutines\")"
   ]
  },
  {
   "cell_type": "code",
   "execution_count": 246,
   "metadata": {},
   "outputs": [
    {
     "name": "stdout",
     "output_type": "stream",
     "text": [
      "Statistics=5.525, p=0.0000000949\n",
      "Different distributions (reject H0)\n"
     ]
    }
   ],
   "source": [
    "stat, p = stats.ttest_rel(df.go, df.go_goroutine)\n",
    "print('Statistics=%.3f, p=%.10f' % (stat, p))\n",
    "# interpret\n",
    "alpha = 0.05\n",
    "if p > alpha:\n",
    "\tprint('Same distributions (fail to reject H0)')\n",
    "else:\n",
    "\tprint('Different distributions (reject H0)')"
   ]
  },
  {
   "cell_type": "markdown",
   "metadata": {},
   "source": [
    "### На перший погляд різниці немає, але перевірка критерієм Стьюдента показала, що різниця у виконанні є значущою"
   ]
  },
  {
   "cell_type": "code",
   "execution_count": 247,
   "metadata": {},
   "outputs": [
    {
     "name": "stdout",
     "output_type": "stream",
     "text": [
      "Go з використанням паралельних обчислень в середньому швидшие виконує програму ніж Go без паралельних обчислень в 1.0436442494941383 разів\n"
     ]
    }
   ],
   "source": [
    "\n",
    "print(\"Go з використанням паралельних обчислень в середньому швидшие виконує програму ніж Go без паралельних обчислень в\", df.go.mean() / df.go_goroutine.mean(),\"разів\")"
   ]
  }
 ],
 "metadata": {
  "interpreter": {
   "hash": "e7370f93d1d0cde622a1f8e1c04877d8463912d04d973331ad4851f04de6915a"
  },
  "kernelspec": {
   "display_name": "Python 3.10.3 64-bit",
   "language": "python",
   "name": "python3"
  },
  "language_info": {
   "codemirror_mode": {
    "name": "ipython",
    "version": 3
   },
   "file_extension": ".py",
   "mimetype": "text/x-python",
   "name": "python",
   "nbconvert_exporter": "python",
   "pygments_lexer": "ipython3",
   "version": "3.10.3"
  },
  "orig_nbformat": 4
 },
 "nbformat": 4,
 "nbformat_minor": 2
}
